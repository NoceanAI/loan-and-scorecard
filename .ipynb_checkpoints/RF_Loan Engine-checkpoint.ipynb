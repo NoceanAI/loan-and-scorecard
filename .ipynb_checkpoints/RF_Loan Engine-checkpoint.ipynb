{
 "cells": [
  {
   "cell_type": "markdown",
   "metadata": {
    "colab_type": "text",
    "id": "wErl4Q_O2Va5"
   },
   "source": [
    "# Random Forest"
   ]
  },
  {
   "cell_type": "code",
   "execution_count": 68,
   "metadata": {
    "colab": {},
    "colab_type": "code",
    "id": "LarMK6dD2EPe"
   },
   "outputs": [],
   "source": [
    "\n",
    "import pandas as pd\n",
    "import numpy as np\n",
    "import matplotlib.pyplot as plt\n",
    "%matplotlib inline\n",
    "import seaborn as sns\n",
    "sns.set_style('whitegrid')\n",
    "pd.set_option('display.max_rows', 50000)\n",
    "pd.set_option('display.max_columns', 500)\n",
    "pd.set_option('display.width', 1000)\n",
    "from pandas.api.types import CategoricalDtype\n",
    "#import calendar\n",
    "from pandas.plotting import register_matplotlib_converters\n",
    "register_matplotlib_converters()"
   ]
  },
  {
   "cell_type": "code",
   "execution_count": 69,
   "metadata": {
    "colab": {},
    "colab_type": "code",
    "id": "MNbx6JUu2EPk"
   },
   "outputs": [],
   "source": [
    "# Read in dates as datetime objects and create a dictionary 'd_dtypes' to read in other data types correctly\n",
    "dates = ['applicationDate','approvalDate','disbursementDate','repaidDate', 'FirstPaymentDueDate_Month', 'dueDate_Month']\n",
    "d_types = {'loanId':str,\n",
    "           'clientId': str,\n",
    "           'clientIncome': float,\n",
    "           'incomeVerified':object,\n",
    "          'clientGender':'category',\n",
    "          'clientMaritalStatus':'category',\n",
    "          'clientLoanPurpose':'category',\n",
    "          'clientResidentialStauts':'category',\n",
    "          'clientState':'category',\n",
    "            'clientTimeAtEmployer':'category',\n",
    "          'clientNumberPhoneContacts':float,\n",
    "           'clientAvgCallsPerDay':float,\n",
    "           'loanTerm': 'category',\n",
    "           'settleDays':int,\n",
    "           'firstPaymentRatio':float}"
   ]
  },
  {
   "cell_type": "code",
   "execution_count": 70,
   "metadata": {
    "colab": {
     "base_uri": "https://localhost:8080/",
     "height": 71
    },
    "colab_type": "code",
    "id": "aey-WzJ72EPo",
    "outputId": "7f26f3ed-33fc-49c8-e7fd-e0f573cf39a2"
   },
   "outputs": [
    {
     "ename": "ValueError",
     "evalue": "'FirstPaymentDueDate_Month' is not in list",
     "output_type": "error",
     "traceback": [
      "\u001b[1;31m---------------------------------------------------------------------------\u001b[0m",
      "\u001b[1;31mValueError\u001b[0m                                Traceback (most recent call last)",
      "\u001b[1;32m<ipython-input-70-2984d6ddd98b>\u001b[0m in \u001b[0;36m<module>\u001b[1;34m\u001b[0m\n\u001b[0;32m      2\u001b[0m \u001b[1;31m# change the filepath to where your csv file is located\u001b[0m\u001b[1;33m\u001b[0m\u001b[1;33m\u001b[0m\u001b[1;33m\u001b[0m\u001b[0m\n\u001b[0;32m      3\u001b[0m loans = pd.read_csv('cleaned_loans.csv', parse_dates= dates, na_values=['Null','nan'], infer_datetime_format=True, \n\u001b[1;32m----> 4\u001b[1;33m                     dtype=d_types)\n\u001b[0m",
      "\u001b[1;32m~\\anaconda3\\lib\\site-packages\\pandas\\io\\parsers.py\u001b[0m in \u001b[0;36mparser_f\u001b[1;34m(filepath_or_buffer, sep, delimiter, header, names, index_col, usecols, squeeze, prefix, mangle_dupe_cols, dtype, engine, converters, true_values, false_values, skipinitialspace, skiprows, skipfooter, nrows, na_values, keep_default_na, na_filter, verbose, skip_blank_lines, parse_dates, infer_datetime_format, keep_date_col, date_parser, dayfirst, cache_dates, iterator, chunksize, compression, thousands, decimal, lineterminator, quotechar, quoting, doublequote, escapechar, comment, encoding, dialect, error_bad_lines, warn_bad_lines, delim_whitespace, low_memory, memory_map, float_precision)\u001b[0m\n\u001b[0;32m    674\u001b[0m         )\n\u001b[0;32m    675\u001b[0m \u001b[1;33m\u001b[0m\u001b[0m\n\u001b[1;32m--> 676\u001b[1;33m         \u001b[1;32mreturn\u001b[0m \u001b[0m_read\u001b[0m\u001b[1;33m(\u001b[0m\u001b[0mfilepath_or_buffer\u001b[0m\u001b[1;33m,\u001b[0m \u001b[0mkwds\u001b[0m\u001b[1;33m)\u001b[0m\u001b[1;33m\u001b[0m\u001b[1;33m\u001b[0m\u001b[0m\n\u001b[0m\u001b[0;32m    677\u001b[0m \u001b[1;33m\u001b[0m\u001b[0m\n\u001b[0;32m    678\u001b[0m     \u001b[0mparser_f\u001b[0m\u001b[1;33m.\u001b[0m\u001b[0m__name__\u001b[0m \u001b[1;33m=\u001b[0m \u001b[0mname\u001b[0m\u001b[1;33m\u001b[0m\u001b[1;33m\u001b[0m\u001b[0m\n",
      "\u001b[1;32m~\\anaconda3\\lib\\site-packages\\pandas\\io\\parsers.py\u001b[0m in \u001b[0;36m_read\u001b[1;34m(filepath_or_buffer, kwds)\u001b[0m\n\u001b[0;32m    446\u001b[0m \u001b[1;33m\u001b[0m\u001b[0m\n\u001b[0;32m    447\u001b[0m     \u001b[1;31m# Create the parser.\u001b[0m\u001b[1;33m\u001b[0m\u001b[1;33m\u001b[0m\u001b[1;33m\u001b[0m\u001b[0m\n\u001b[1;32m--> 448\u001b[1;33m     \u001b[0mparser\u001b[0m \u001b[1;33m=\u001b[0m \u001b[0mTextFileReader\u001b[0m\u001b[1;33m(\u001b[0m\u001b[0mfp_or_buf\u001b[0m\u001b[1;33m,\u001b[0m \u001b[1;33m**\u001b[0m\u001b[0mkwds\u001b[0m\u001b[1;33m)\u001b[0m\u001b[1;33m\u001b[0m\u001b[1;33m\u001b[0m\u001b[0m\n\u001b[0m\u001b[0;32m    449\u001b[0m \u001b[1;33m\u001b[0m\u001b[0m\n\u001b[0;32m    450\u001b[0m     \u001b[1;32mif\u001b[0m \u001b[0mchunksize\u001b[0m \u001b[1;32mor\u001b[0m \u001b[0miterator\u001b[0m\u001b[1;33m:\u001b[0m\u001b[1;33m\u001b[0m\u001b[1;33m\u001b[0m\u001b[0m\n",
      "\u001b[1;32m~\\anaconda3\\lib\\site-packages\\pandas\\io\\parsers.py\u001b[0m in \u001b[0;36m__init__\u001b[1;34m(self, f, engine, **kwds)\u001b[0m\n\u001b[0;32m    878\u001b[0m             \u001b[0mself\u001b[0m\u001b[1;33m.\u001b[0m\u001b[0moptions\u001b[0m\u001b[1;33m[\u001b[0m\u001b[1;34m\"has_index_names\"\u001b[0m\u001b[1;33m]\u001b[0m \u001b[1;33m=\u001b[0m \u001b[0mkwds\u001b[0m\u001b[1;33m[\u001b[0m\u001b[1;34m\"has_index_names\"\u001b[0m\u001b[1;33m]\u001b[0m\u001b[1;33m\u001b[0m\u001b[1;33m\u001b[0m\u001b[0m\n\u001b[0;32m    879\u001b[0m \u001b[1;33m\u001b[0m\u001b[0m\n\u001b[1;32m--> 880\u001b[1;33m         \u001b[0mself\u001b[0m\u001b[1;33m.\u001b[0m\u001b[0m_make_engine\u001b[0m\u001b[1;33m(\u001b[0m\u001b[0mself\u001b[0m\u001b[1;33m.\u001b[0m\u001b[0mengine\u001b[0m\u001b[1;33m)\u001b[0m\u001b[1;33m\u001b[0m\u001b[1;33m\u001b[0m\u001b[0m\n\u001b[0m\u001b[0;32m    881\u001b[0m \u001b[1;33m\u001b[0m\u001b[0m\n\u001b[0;32m    882\u001b[0m     \u001b[1;32mdef\u001b[0m \u001b[0mclose\u001b[0m\u001b[1;33m(\u001b[0m\u001b[0mself\u001b[0m\u001b[1;33m)\u001b[0m\u001b[1;33m:\u001b[0m\u001b[1;33m\u001b[0m\u001b[1;33m\u001b[0m\u001b[0m\n",
      "\u001b[1;32m~\\anaconda3\\lib\\site-packages\\pandas\\io\\parsers.py\u001b[0m in \u001b[0;36m_make_engine\u001b[1;34m(self, engine)\u001b[0m\n\u001b[0;32m   1112\u001b[0m     \u001b[1;32mdef\u001b[0m \u001b[0m_make_engine\u001b[0m\u001b[1;33m(\u001b[0m\u001b[0mself\u001b[0m\u001b[1;33m,\u001b[0m \u001b[0mengine\u001b[0m\u001b[1;33m=\u001b[0m\u001b[1;34m\"c\"\u001b[0m\u001b[1;33m)\u001b[0m\u001b[1;33m:\u001b[0m\u001b[1;33m\u001b[0m\u001b[1;33m\u001b[0m\u001b[0m\n\u001b[0;32m   1113\u001b[0m         \u001b[1;32mif\u001b[0m \u001b[0mengine\u001b[0m \u001b[1;33m==\u001b[0m \u001b[1;34m\"c\"\u001b[0m\u001b[1;33m:\u001b[0m\u001b[1;33m\u001b[0m\u001b[1;33m\u001b[0m\u001b[0m\n\u001b[1;32m-> 1114\u001b[1;33m             \u001b[0mself\u001b[0m\u001b[1;33m.\u001b[0m\u001b[0m_engine\u001b[0m \u001b[1;33m=\u001b[0m \u001b[0mCParserWrapper\u001b[0m\u001b[1;33m(\u001b[0m\u001b[0mself\u001b[0m\u001b[1;33m.\u001b[0m\u001b[0mf\u001b[0m\u001b[1;33m,\u001b[0m \u001b[1;33m**\u001b[0m\u001b[0mself\u001b[0m\u001b[1;33m.\u001b[0m\u001b[0moptions\u001b[0m\u001b[1;33m)\u001b[0m\u001b[1;33m\u001b[0m\u001b[1;33m\u001b[0m\u001b[0m\n\u001b[0m\u001b[0;32m   1115\u001b[0m         \u001b[1;32melse\u001b[0m\u001b[1;33m:\u001b[0m\u001b[1;33m\u001b[0m\u001b[1;33m\u001b[0m\u001b[0m\n\u001b[0;32m   1116\u001b[0m             \u001b[1;32mif\u001b[0m \u001b[0mengine\u001b[0m \u001b[1;33m==\u001b[0m \u001b[1;34m\"python\"\u001b[0m\u001b[1;33m:\u001b[0m\u001b[1;33m\u001b[0m\u001b[1;33m\u001b[0m\u001b[0m\n",
      "\u001b[1;32m~\\anaconda3\\lib\\site-packages\\pandas\\io\\parsers.py\u001b[0m in \u001b[0;36m__init__\u001b[1;34m(self, src, **kwds)\u001b[0m\n\u001b[0;32m   1947\u001b[0m                 \u001b[0m_validate_usecols_names\u001b[0m\u001b[1;33m(\u001b[0m\u001b[0musecols\u001b[0m\u001b[1;33m,\u001b[0m \u001b[0mself\u001b[0m\u001b[1;33m.\u001b[0m\u001b[0mnames\u001b[0m\u001b[1;33m)\u001b[0m\u001b[1;33m\u001b[0m\u001b[1;33m\u001b[0m\u001b[0m\n\u001b[0;32m   1948\u001b[0m \u001b[1;33m\u001b[0m\u001b[0m\n\u001b[1;32m-> 1949\u001b[1;33m         \u001b[0mself\u001b[0m\u001b[1;33m.\u001b[0m\u001b[0m_set_noconvert_columns\u001b[0m\u001b[1;33m(\u001b[0m\u001b[1;33m)\u001b[0m\u001b[1;33m\u001b[0m\u001b[1;33m\u001b[0m\u001b[0m\n\u001b[0m\u001b[0;32m   1950\u001b[0m \u001b[1;33m\u001b[0m\u001b[0m\n\u001b[0;32m   1951\u001b[0m         \u001b[0mself\u001b[0m\u001b[1;33m.\u001b[0m\u001b[0morig_names\u001b[0m \u001b[1;33m=\u001b[0m \u001b[0mself\u001b[0m\u001b[1;33m.\u001b[0m\u001b[0mnames\u001b[0m\u001b[1;33m\u001b[0m\u001b[1;33m\u001b[0m\u001b[0m\n",
      "\u001b[1;32m~\\anaconda3\\lib\\site-packages\\pandas\\io\\parsers.py\u001b[0m in \u001b[0;36m_set_noconvert_columns\u001b[1;34m(self)\u001b[0m\n\u001b[0;32m   2013\u001b[0m                         \u001b[0m_set\u001b[0m\u001b[1;33m(\u001b[0m\u001b[0mk\u001b[0m\u001b[1;33m)\u001b[0m\u001b[1;33m\u001b[0m\u001b[1;33m\u001b[0m\u001b[0m\n\u001b[0;32m   2014\u001b[0m                 \u001b[1;32melse\u001b[0m\u001b[1;33m:\u001b[0m\u001b[1;33m\u001b[0m\u001b[1;33m\u001b[0m\u001b[0m\n\u001b[1;32m-> 2015\u001b[1;33m                     \u001b[0m_set\u001b[0m\u001b[1;33m(\u001b[0m\u001b[0mval\u001b[0m\u001b[1;33m)\u001b[0m\u001b[1;33m\u001b[0m\u001b[1;33m\u001b[0m\u001b[0m\n\u001b[0m\u001b[0;32m   2016\u001b[0m \u001b[1;33m\u001b[0m\u001b[0m\n\u001b[0;32m   2017\u001b[0m         \u001b[1;32melif\u001b[0m \u001b[0misinstance\u001b[0m\u001b[1;33m(\u001b[0m\u001b[0mself\u001b[0m\u001b[1;33m.\u001b[0m\u001b[0mparse_dates\u001b[0m\u001b[1;33m,\u001b[0m \u001b[0mdict\u001b[0m\u001b[1;33m)\u001b[0m\u001b[1;33m:\u001b[0m\u001b[1;33m\u001b[0m\u001b[1;33m\u001b[0m\u001b[0m\n",
      "\u001b[1;32m~\\anaconda3\\lib\\site-packages\\pandas\\io\\parsers.py\u001b[0m in \u001b[0;36m_set\u001b[1;34m(x)\u001b[0m\n\u001b[0;32m   2003\u001b[0m \u001b[1;33m\u001b[0m\u001b[0m\n\u001b[0;32m   2004\u001b[0m             \u001b[1;32mif\u001b[0m \u001b[1;32mnot\u001b[0m \u001b[0mis_integer\u001b[0m\u001b[1;33m(\u001b[0m\u001b[0mx\u001b[0m\u001b[1;33m)\u001b[0m\u001b[1;33m:\u001b[0m\u001b[1;33m\u001b[0m\u001b[1;33m\u001b[0m\u001b[0m\n\u001b[1;32m-> 2005\u001b[1;33m                 \u001b[0mx\u001b[0m \u001b[1;33m=\u001b[0m \u001b[0mnames\u001b[0m\u001b[1;33m.\u001b[0m\u001b[0mindex\u001b[0m\u001b[1;33m(\u001b[0m\u001b[0mx\u001b[0m\u001b[1;33m)\u001b[0m\u001b[1;33m\u001b[0m\u001b[1;33m\u001b[0m\u001b[0m\n\u001b[0m\u001b[0;32m   2006\u001b[0m \u001b[1;33m\u001b[0m\u001b[0m\n\u001b[0;32m   2007\u001b[0m             \u001b[0mself\u001b[0m\u001b[1;33m.\u001b[0m\u001b[0m_reader\u001b[0m\u001b[1;33m.\u001b[0m\u001b[0mset_noconvert\u001b[0m\u001b[1;33m(\u001b[0m\u001b[0mx\u001b[0m\u001b[1;33m)\u001b[0m\u001b[1;33m\u001b[0m\u001b[1;33m\u001b[0m\u001b[0m\n",
      "\u001b[1;31mValueError\u001b[0m: 'FirstPaymentDueDate_Month' is not in list"
     ]
    }
   ],
   "source": [
    "# Read in the raw dataset gotten from bigquery and pass the necessary arguments\n",
    "# change the filepath to where your csv file is located\n",
    "loans = pd.read_csv('cleaned_loans.csv', parse_dates= dates, na_values=['Null','nan'], infer_datetime_format=True, \n",
    "                    dtype=d_types)"
   ]
  },
  {
   "cell_type": "code",
   "execution_count": null,
   "metadata": {
    "colab": {},
    "colab_type": "code",
    "id": "6OfdpXIM2EPv",
    "scrolled": true
   },
   "outputs": [],
   "source": [
    "# Convert loanTerm to a categorical data type and make it ordered\n",
    "cat_type_loan = CategoricalDtype(categories=['60', '90', '180'],ordered=True)\n",
    "loans['loanTerm'] = loans['loanTerm'].astype(cat_type_loan)"
   ]
  },
  {
   "cell_type": "code",
   "execution_count": null,
   "metadata": {
    "colab": {
     "base_uri": "https://localhost:8080/",
     "height": 692
    },
    "colab_type": "code",
    "id": "-DGWTjiq2EPz",
    "outputId": "5f42fe92-e1cb-41cc-f5b2-9d7cf3afa01f"
   },
   "outputs": [],
   "source": [
    "# Inspect loans information\n",
    "loans.info()"
   ]
  },
  {
   "cell_type": "code",
   "execution_count": null,
   "metadata": {
    "colab": {
     "base_uri": "https://localhost:8080/",
     "height": 97
    },
    "colab_type": "code",
    "id": "f6hDU9Ru2EP4",
    "outputId": "ce5da29c-fbce-4e00-bf45-6eaa596a8cb7"
   },
   "outputs": [],
   "source": [
    "loans.nunique().to_frame().transpose()"
   ]
  },
  {
   "cell_type": "code",
   "execution_count": null,
   "metadata": {
    "colab": {
     "base_uri": "https://localhost:8080/",
     "height": 621
    },
    "colab_type": "code",
    "id": "LdnMuYan2EQA",
    "outputId": "4bb478e6-3c5e-439d-c7a3-375bd0a4cc14"
   },
   "outputs": [],
   "source": [
    "# Sum of missing values in the dataset\n",
    "loans.isna().sum()"
   ]
  },
  {
   "cell_type": "code",
   "execution_count": null,
   "metadata": {},
   "outputs": [],
   "source": [
    "loans.isna().sum().plot(kind = 'bar')"
   ]
  },
  {
   "cell_type": "code",
   "execution_count": null,
   "metadata": {
    "colab": {
     "base_uri": "https://localhost:8080/",
     "height": 307
    },
    "colab_type": "code",
    "id": "1J3eC8ao2EQE",
    "outputId": "4f994c4b-419c-4f02-f3ae-373f0f33dcf1"
   },
   "outputs": [],
   "source": [
    "loans.describe()\n",
    "# An anomaly was noticed for the clientAge column; maximum age is 138. Look into this."
   ]
  },
  {
   "cell_type": "markdown",
   "metadata": {
    "colab_type": "text",
    "id": "PzGkc85T2EQJ"
   },
   "source": [
    "# Exploratory Data Analysis"
   ]
  },
  {
   "cell_type": "code",
   "execution_count": null,
   "metadata": {
    "colab": {
     "base_uri": "https://localhost:8080/",
     "height": 541
    },
    "colab_type": "code",
    "id": "qtWXa_8k2EQK",
    "outputId": "42f42cbb-17e3-480a-c49e-49a19dce4305",
    "scrolled": false
   },
   "outputs": [],
   "source": [
    "# Plot a timeseries line plot showing the status of loan amounts as a function of the disbursement date's month\n",
    "plt.figure(figsize=(15,8))\n",
    "\n",
    "sns.lineplot(x='disbursementDate', y='loanAmount',hue='loanDefault', data=loans, palette='mako')\n",
    "\n",
    "plt.xlabel('Month', fontsize=25, labelpad=6)\n",
    "plt.ylabel('Loan Amount', fontsize=25, labelpad=6)\n",
    "plt.title('Time Series Plot of Loan Amount and Disbursement Month', fontsize=25, pad=12);"
   ]
  },
  {
   "cell_type": "code",
   "execution_count": null,
   "metadata": {
    "colab": {
     "base_uri": "https://localhost:8080/",
     "height": 541
    },
    "colab_type": "code",
    "id": "LBVE4x1N2EQO",
    "outputId": "70fe3a65-fcea-4520-8790-95fc7c381363"
   },
   "outputs": [],
   "source": [
    "plt.figure(figsize=(15,8))\n",
    "# Plot a timeseries line plot showing the status of loan amounts as a function of the due date's month\n",
    "sns.lineplot(x='repaidDate', y='loanAmount',hue='loanDefault', data=loans, palette='mako')\n",
    "\n",
    "plt.xlabel('Month', fontsize=25, labelpad=6)\n",
    "plt.ylabel('Loan Amount', fontsize=25, labelpad=6)\n",
    "plt.title('Time Series Plot of Loan Amount and Month Loan is repaid', fontsize=25, pad=12);"
   ]
  },
  {
   "cell_type": "code",
   "execution_count": null,
   "metadata": {
    "colab": {
     "base_uri": "https://localhost:8080/",
     "height": 642
    },
    "colab_type": "code",
    "id": "PuxiXaPb2EQV",
    "outputId": "34aa8196-b4ec-473f-ae54-4f9912bfb543"
   },
   "outputs": [],
   "source": [
    "# Plot a box plot showing the distribution of loans collected and their status\n",
    "plt.figure(figsize=(8,10))\n",
    "plt.subplot(211)\n",
    "sns.boxplot(x='loanDefault', y='loanAmount', data=loans,palette='mako',showfliers=False)\n",
    "\n",
    "plt.xlabel('Loan Default', fontsize=15, labelpad=2)\n",
    "plt.ylabel('Loan Amount', fontsize=15, labelpad=6)\n",
    "plt.title('Loan Amount Distribution showing Loan Status', fontsize=20, pad=6);\n",
    "\n",
    "plt.subplot(212)\n",
    "\n",
    "# Plot a box plot showing the distribution of client income the status of loans collected\n",
    "sns.boxplot(x='loanDefault', y='clientIncome', data=loans, palette='mako', showfliers=False)\n",
    "\n",
    "plt.xlabel('Loan Default', fontsize=15, labelpad=2)\n",
    "plt.ylabel('Client Income', fontsize=15, labelpad=6)\n",
    "plt.title('Client Income Distribution showing Loan Status', fontsize=20, pad=6);\n",
    "\n",
    "plt.subplots_adjust(wspace=0.2, hspace=0.4, top=0.9)"
   ]
  },
  {
   "cell_type": "code",
   "execution_count": null,
   "metadata": {
    "colab": {
     "base_uri": "https://localhost:8080/",
     "height": 417
    },
    "colab_type": "code",
    "id": "1tNeM1jT2EQa",
    "outputId": "2a094051-e401-4ebe-cb32-a47a040a729b"
   },
   "outputs": [],
   "source": [
    "# On an average, interest rates are highest for clients seeking loans for medical reasons, \n",
    "# followed by business and other reasons\n",
    "plt.figure(figsize=(12,6))\n",
    "\n",
    "data = loans.groupby('clientLoanPurpose')['interestRate'].mean()\n",
    "\n",
    "sns.barplot(x=data.values, y=data.index, palette='rainbow')\n",
    "\n",
    "plt.xlabel('Interest Rate', fontsize=15)\n",
    "plt.ylabel('Loan Purpose', fontsize=15)\n",
    "plt.title('Interest Rate Versus Loan Purpose', fontsize=20, pad=12);"
   ]
  },
  {
   "cell_type": "code",
   "execution_count": null,
   "metadata": {
    "colab": {
     "base_uri": "https://localhost:8080/",
     "height": 312
    },
    "colab_type": "code",
    "id": "iZfgAS4o2EQe",
    "outputId": "4e296643-7f4b-4dcb-9ceb-4144136e855b"
   },
   "outputs": [],
   "source": [
    "# What do most client's take loans for? What reason has the most defaults?\n",
    "sns.countplot(x='clientLoanPurpose', data=loans, hue='loanDefault')\n",
    "\n",
    "plt.xlabel('Purpose of Loan', fontsize=15)\n",
    "plt.ylabel('Loan Amount', fontsize=15)\n",
    "plt.title('Purpose of Loan versus Loan Amount', fontsize=20, pad=15);"
   ]
  },
  {
   "cell_type": "markdown",
   "metadata": {
    "colab_type": "text",
    "id": "h9DUDwEO2EQo"
   },
   "source": [
    "# Data Pre-Processing\n",
    "1. Fix wrongly inputed data\n",
    "2. Handle Missing Values\n",
    "3. Drop columns\n",
    "4. One-hot encode categorical columns\n",
    "5. Build and Train Random Forest Classifier"
   ]
  },
  {
   "cell_type": "markdown",
   "metadata": {
    "colab_type": "text",
    "id": "pTdw66to2EQp"
   },
   "source": [
    "### 1.1 Fix wrongly inputed data in `clientState` column"
   ]
  },
  {
   "cell_type": "code",
   "execution_count": null,
   "metadata": {
    "colab": {},
    "colab_type": "code",
    "id": "r1HFjkbY2EQr"
   },
   "outputs": [],
   "source": [
    "# Replace wrongly entered states\n",
    "loans['clientState'] = loans['clientState'].str.replace('LAGOS ', 'LAGOS')\n",
    "loans['clientState'] = loans['clientState'].str.replace('OJO', 'OYO')"
   ]
  },
  {
   "cell_type": "code",
   "execution_count": null,
   "metadata": {
    "colab": {
     "base_uri": "https://localhost:8080/",
     "height": 868
    },
    "colab_type": "code",
    "id": "gR3M3G182EQu",
    "outputId": "ea5e62d8-e212-4b18-9e1b-dfec75862c66"
   },
   "outputs": [],
   "source": [
    "# Plot a barplot of the counts of Non-defaulted loans grouped according to states\n",
    "plt.figure(figsize=(10,14))\n",
    "plt.subplot(211)\n",
    "data = loans[loans['loanDefault']==0].groupby('clientState')['loanDefault'].count().sort_values(ascending=False)\n",
    "\n",
    "sns.barplot(x=data.values, y=data.index, palette='rainbow')\n",
    "\n",
    "plt.xlabel('Number of loans',fontsize=15, labelpad=6)\n",
    "plt.ylabel('State',fontsize=15, labelpad=12)\n",
    "plt.title('Number of non-defaulted loans per State',fontsize=20, pad=6);\n",
    "\n",
    "plt.subplot(212)\n",
    "\n",
    "# Plot a barplot of the counts of Defaulted loans grouped according to states\n",
    "data = loans[loans['loanDefault']==1].groupby('clientState')['loanDefault'].count().sort_values(ascending=False)\n",
    "\n",
    "sns.barplot(x=data.values, y=data.index, palette='rainbow')\n",
    "\n",
    "plt.xlabel('Number of loans',fontsize=15, labelpad=6)\n",
    "plt.ylabel('State',fontsize=15, labelpad=12)\n",
    "plt.title('Number of defaulted loans per state',fontsize=20, pad=6);\n",
    "\n",
    "plt.subplots_adjust(wspace=0.2, hspace=0.25, top=0.9)"
   ]
  },
  {
   "cell_type": "markdown",
   "metadata": {
    "colab_type": "text",
    "id": "AvVLCWCf2EQ9"
   },
   "source": [
    "### 1.2 Fix wrongly inputed data in `clientAge` column\n",
    "Upon observation `loans.clientAge.max()` returns `138`. This was most likely an error and the client meant to input `38`"
   ]
  },
  {
   "cell_type": "code",
   "execution_count": null,
   "metadata": {
    "colab": {
     "base_uri": "https://localhost:8080/",
     "height": 34
    },
    "colab_type": "code",
    "id": "yx7RH7S-2EQ-",
    "outputId": "4ea65f90-926c-4d51-8e4b-3f4cf108b6aa",
    "scrolled": true
   },
   "outputs": [],
   "source": [
    "# Check maximum age\n",
    "loans.clientAge.max()"
   ]
  },
  {
   "cell_type": "code",
   "execution_count": null,
   "metadata": {
    "colab": {},
    "colab_type": "code",
    "id": "JifCK_6b2ERF"
   },
   "outputs": [],
   "source": [
    "# Reassign the value at the index where this error occurs\n",
    "loans.loc[1165, 'clientAge'] = 38"
   ]
  },
  {
   "cell_type": "markdown",
   "metadata": {
    "colab_type": "text",
    "id": "HAalb6V32ERI"
   },
   "source": [
    "### 2.1 Handle missing values in the `incomeVerified column`\n",
    "- **`Fill Nans with 'False'`**\n",
    "- **Logic behind it**: missing values are filled in with **`false`**; missing is being translated as **`unverified`**"
   ]
  },
  {
   "cell_type": "code",
   "execution_count": null,
   "metadata": {
    "colab": {
     "base_uri": "https://localhost:8080/",
     "height": 70
    },
    "colab_type": "code",
    "id": "6qo04gH-2ERJ",
    "outputId": "7fadf20d-6c66-4791-e819-ed1dba4ac201"
   },
   "outputs": [],
   "source": [
    "# Check value counts before filling with 'false'\n",
    "loans.incomeVerified.value_counts()"
   ]
  },
  {
   "cell_type": "code",
   "execution_count": null,
   "metadata": {
    "colab": {},
    "colab_type": "code",
    "id": "OAyPVM282ERN"
   },
   "outputs": [],
   "source": [
    "# Replace nans in Income verified with False\n",
    "loans['incomeVerified'] = loans['incomeVerified'].fillna('false')"
   ]
  },
  {
   "cell_type": "code",
   "execution_count": null,
   "metadata": {
    "colab": {},
    "colab_type": "code",
    "id": "IaZzxsUh2ERQ"
   },
   "outputs": [],
   "source": [
    "# This converts incomeVerified to a boolean data type\n",
    "loans['incomeVerified'] = loans['incomeVerified'] == 'true'"
   ]
  },
  {
   "cell_type": "code",
   "execution_count": null,
   "metadata": {
    "colab": {
     "base_uri": "https://localhost:8080/",
     "height": 70
    },
    "colab_type": "code",
    "id": "Ju4JIIKm2ERS",
    "outputId": "db54e492-05dd-480a-fc6e-46fc41d7c3c1"
   },
   "outputs": [],
   "source": [
    "# Check value counts after filling and converting to boolean\n",
    "loans.incomeVerified.value_counts()"
   ]
  },
  {
   "cell_type": "code",
   "execution_count": null,
   "metadata": {
    "colab": {},
    "colab_type": "code",
    "id": "T0MNUwnd2ERW"
   },
   "outputs": [],
   "source": [
    "# Remap IncomeVerified with 1:True and 0:False\n",
    "loans['incomeVerified']=loans['incomeVerified'].map({True:1,False:0})"
   ]
  },
  {
   "cell_type": "code",
   "execution_count": null,
   "metadata": {
    "colab": {
     "base_uri": "https://localhost:8080/",
     "height": 70
    },
    "colab_type": "code",
    "id": "uQs1ekDM2ERZ",
    "outputId": "9b11349e-a1dc-4692-b00f-43cd8eadf6b0"
   },
   "outputs": [],
   "source": [
    "# Check value counts after remapping\n",
    "loans.incomeVerified.value_counts()"
   ]
  },
  {
   "cell_type": "markdown",
   "metadata": {
    "colab_type": "text",
    "id": "PxF0uU1z2ERe"
   },
   "source": [
    "### 2.2 Handle missing values for `clientMaritalStatus` column\n",
    "- **`Fill Nans with 'Single'`**\n",
    "- **Logic behind it**: Upon looking at the data, 6 missing values were encountered **`{24 : F , 26 : M , 29 : F , 33 : M , 34 : F , 36 : M}`**. This dictionary represents the ages and genders of the clients.\n",
    "- Looking at the values, there's a high likehood of them being Single."
   ]
  },
  {
   "cell_type": "code",
   "execution_count": null,
   "metadata": {
    "colab": {},
    "colab_type": "code",
    "id": "KtzL4pzc2ERf"
   },
   "outputs": [],
   "source": [
    "# Fill missing values in with 'Single'\n",
    "loans['clientMaritalStatus'] = loans['clientMaritalStatus'].fillna('Single')"
   ]
  },
  {
   "cell_type": "code",
   "execution_count": null,
   "metadata": {
    "colab": {
     "base_uri": "https://localhost:8080/",
     "height": 992
    },
    "colab_type": "code",
    "id": "60kNCiD12ERj",
    "outputId": "f76ffc5d-1538-4d2f-f49a-e5416b0e5964"
   },
   "outputs": [],
   "source": [
    "# Plot a barplot of mean loan amounts defaulted on or paid back for different marital status\n",
    "plt.figure(figsize=(18,16))\n",
    "\n",
    "plt.subplot(2,1,1)\n",
    "sns.barplot(x='clientMaritalStatus', y='loanAmount', hue='loanDefault', data=loans, palette='rainbow');\n",
    "\n",
    "plt.xlabel('client Marital Status',fontsize=15, labelpad=12)\n",
    "plt.ylabel('Loan Amount',fontsize=15, labelpad=12)\n",
    "plt.title('loans defaulted or paid back as a function of Marital Status',fontsize=20, pad=12);\n",
    "\n",
    "# Plot a barplot of mean loan amounts defaulted on or paid back for different residential status\n",
    "plt.subplot(2,1,2)\n",
    "sns.barplot(x='clientResidentialStauts', y='loanAmount', hue='loanDefault', data=loans, palette='mako');\n",
    "\n",
    "plt.xlabel('Client Residential Status',fontsize=15, labelpad=12)\n",
    "plt.ylabel('Loan Amount',fontsize=15, labelpad=12)\n",
    "plt.title('loans defaulted or paid back as a function of Residential Status',fontsize=20, pad=12);\n",
    "\n",
    "plt.subplots_adjust(wspace=0.2, hspace=0.3, top=0.9)"
   ]
  },
  {
   "cell_type": "markdown",
   "metadata": {
    "colab_type": "text",
    "id": "I9ChFjpA2ERo"
   },
   "source": [
    "### 2.3 Handle missing values in the `clientTimeAtEmployer` column\n",
    "- **`Fill Nans with 0`**\n",
    "- **Logic behind it**: Out of **`4,194`** clients that have Nans indicated in their **`clientTimeAtEmployer`** field, only **`5.41%`** of them have Verified Income sources compared to the overall **`16.42%`** in the entire dataset and **`16.71%`** for the remaining **`155,402`** clients who provided info for the **`clientTimeAtEmployer`** field.\n",
    "- This could indicate that they are unemployed and as such, filling **`clientTimeAtEmployer`** with **`0`** makes sense."
   ]
  },
  {
   "cell_type": "code",
   "execution_count": null,
   "metadata": {
    "colab": {},
    "colab_type": "code",
    "id": "fKmvlytY2ERo"
   },
   "outputs": [],
   "source": [
    "# Isolate incomeVerified and clientTimeAtEmployer columns and make observations\n",
    "loans_income_employer = loans[['incomeVerified', 'clientTimeAtEmployer']]"
   ]
  },
  {
   "cell_type": "code",
   "execution_count": null,
   "metadata": {
    "colab": {
     "base_uri": "https://localhost:8080/",
     "height": 70
    },
    "colab_type": "code",
    "id": "GZ-NomKC2ERr",
    "outputId": "9427ab7a-39b6-4cdc-fea9-ec48dfca89d3"
   },
   "outputs": [],
   "source": [
    "# 5.41% of the clients who did not provide information about clientTimeAtEmployer have verified Income sources\n",
    "loans_income_employer[loans_income_employer['clientTimeAtEmployer'].isnull()].mean()*100"
   ]
  },
  {
   "cell_type": "code",
   "execution_count": null,
   "metadata": {
    "colab": {
     "base_uri": "https://localhost:8080/",
     "height": 52
    },
    "colab_type": "code",
    "id": "02YfwMXZ2ERw",
    "outputId": "5aaf2980-0c4a-4bc0-8e5b-f00073319cc9"
   },
   "outputs": [],
   "source": [
    "# 16.71% of the clients who provided information about clientTimeAtEmployer have verified Income sources\n",
    "loans_income_employer[loans_income_employer['clientTimeAtEmployer'].notnull()].mean()*100 "
   ]
  },
  {
   "cell_type": "code",
   "execution_count": null,
   "metadata": {
    "colab": {
     "base_uri": "https://localhost:8080/",
     "height": 34
    },
    "colab_type": "code",
    "id": "oHFfzfXy2ER0",
    "outputId": "d0ae7430-1b4c-44e4-ddff-0ddd98e8561c"
   },
   "outputs": [],
   "source": [
    "# 16.42% of all the clients in the dataset provided verified income sources\n",
    "(loans['incomeVerified'] == True).mean()*100"
   ]
  },
  {
   "cell_type": "code",
   "execution_count": null,
   "metadata": {
    "colab": {},
    "colab_type": "code",
    "id": "h95iIgJR2ER5"
   },
   "outputs": [],
   "source": [
    "# Strip the '+' added to the end of clients that have worked for more than 36 Months and \n",
    "# convert the column to a numeric column\n",
    "loans['clientTimeAtEmployer'] = loans['clientTimeAtEmployer'].str.rstrip('+')\n",
    "loans['clientTimeAtEmployer'] = pd.to_numeric(loans['clientTimeAtEmployer'])"
   ]
  },
  {
   "cell_type": "code",
   "execution_count": null,
   "metadata": {
    "colab": {},
    "colab_type": "code",
    "id": "XCfmLWCj2ER7"
   },
   "outputs": [],
   "source": [
    "# Fill Nans with O\n",
    "loans['clientTimeAtEmployer'] = loans['clientTimeAtEmployer'].fillna(0)"
   ]
  },
  {
   "cell_type": "markdown",
   "metadata": {
    "colab_type": "text",
    "id": "5ShE2DIt2ER-"
   },
   "source": [
    "### Reduce the number of categories in `clientTimeAtEmployer` due to the sparse distribution of values in categories other than `36+`"
   ]
  },
  {
   "cell_type": "code",
   "execution_count": null,
   "metadata": {
    "colab": {
     "base_uri": "https://localhost:8080/",
     "height": 34
    },
    "colab_type": "code",
    "id": "VL06KTFu2ER-",
    "outputId": "d084b334-bc02-4012-d62b-65f49211f313"
   },
   "outputs": [],
   "source": [
    "# Investigate the number of unique groups for 'clientTimeAtEmployer'. \n",
    "# There are 40 Unique groups, reduce these to limit numerous columns without much information loss\n",
    "loans['clientTimeAtEmployer'].unique().shape"
   ]
  },
  {
   "cell_type": "code",
   "execution_count": null,
   "metadata": {
    "colab": {},
    "colab_type": "code",
    "id": "03gwxRDn2ESC"
   },
   "outputs": [],
   "source": [
    "# Bin the 40 unique values from 'clientTimeAtEmployer' into 6 Intervals of 8 Months each.\n",
    "# Create a seperate bin for the few negative values found\n",
    "bins = [-10 ,0 ,8 ,17 ,26 ,35, 36 ]\n",
    "labels = ['< 0 Months', '0-8 Months', '9-17 Months', '18-26 Months', '27-35 Months', '> 36 Months']"
   ]
  },
  {
   "cell_type": "code",
   "execution_count": 71,
   "metadata": {
    "colab": {},
    "colab_type": "code",
    "id": "Pir3MD_j2ESI"
   },
   "outputs": [
    {
     "ename": "TypeError",
     "evalue": "'<' not supported between instances of 'int' and 'str'",
     "output_type": "error",
     "traceback": [
      "\u001b[1;31m---------------------------------------------------------------------------\u001b[0m",
      "\u001b[1;31mTypeError\u001b[0m                                 Traceback (most recent call last)",
      "\u001b[1;32m<ipython-input-71-ba3ec0070b83>\u001b[0m in \u001b[0;36m<module>\u001b[1;34m\u001b[0m\n\u001b[1;32m----> 1\u001b[1;33m \u001b[0mloans\u001b[0m\u001b[1;33m[\u001b[0m\u001b[1;34m'clientTimeAtEmployer'\u001b[0m\u001b[1;33m]\u001b[0m \u001b[1;33m=\u001b[0m \u001b[0mpd\u001b[0m\u001b[1;33m.\u001b[0m\u001b[0mcut\u001b[0m\u001b[1;33m(\u001b[0m\u001b[0mloans\u001b[0m\u001b[1;33m.\u001b[0m\u001b[0mclientTimeAtEmployer\u001b[0m\u001b[1;33m,\u001b[0m \u001b[0mbins\u001b[0m \u001b[1;33m=\u001b[0m \u001b[0mbins\u001b[0m\u001b[1;33m,\u001b[0m \u001b[0mlabels\u001b[0m \u001b[1;33m=\u001b[0m \u001b[0mlabels\u001b[0m\u001b[1;33m)\u001b[0m\u001b[1;33m\u001b[0m\u001b[1;33m\u001b[0m\u001b[0m\n\u001b[0m",
      "\u001b[1;32m~\\anaconda3\\lib\\site-packages\\pandas\\core\\reshape\\tile.py\u001b[0m in \u001b[0;36mcut\u001b[1;34m(x, bins, right, labels, retbins, precision, include_lowest, duplicates)\u001b[0m\n\u001b[0;32m    263\u001b[0m         \u001b[0minclude_lowest\u001b[0m\u001b[1;33m=\u001b[0m\u001b[0minclude_lowest\u001b[0m\u001b[1;33m,\u001b[0m\u001b[1;33m\u001b[0m\u001b[1;33m\u001b[0m\u001b[0m\n\u001b[0;32m    264\u001b[0m         \u001b[0mdtype\u001b[0m\u001b[1;33m=\u001b[0m\u001b[0mdtype\u001b[0m\u001b[1;33m,\u001b[0m\u001b[1;33m\u001b[0m\u001b[1;33m\u001b[0m\u001b[0m\n\u001b[1;32m--> 265\u001b[1;33m         \u001b[0mduplicates\u001b[0m\u001b[1;33m=\u001b[0m\u001b[0mduplicates\u001b[0m\u001b[1;33m,\u001b[0m\u001b[1;33m\u001b[0m\u001b[1;33m\u001b[0m\u001b[0m\n\u001b[0m\u001b[0;32m    266\u001b[0m     )\n\u001b[0;32m    267\u001b[0m \u001b[1;33m\u001b[0m\u001b[0m\n",
      "\u001b[1;32m~\\anaconda3\\lib\\site-packages\\pandas\\core\\reshape\\tile.py\u001b[0m in \u001b[0;36m_bins_to_cuts\u001b[1;34m(x, bins, right, labels, precision, include_lowest, dtype, duplicates)\u001b[0m\n\u001b[0;32m    386\u001b[0m \u001b[1;33m\u001b[0m\u001b[0m\n\u001b[0;32m    387\u001b[0m     \u001b[0mside\u001b[0m \u001b[1;33m=\u001b[0m \u001b[1;34m\"left\"\u001b[0m \u001b[1;32mif\u001b[0m \u001b[0mright\u001b[0m \u001b[1;32melse\u001b[0m \u001b[1;34m\"right\"\u001b[0m\u001b[1;33m\u001b[0m\u001b[1;33m\u001b[0m\u001b[0m\n\u001b[1;32m--> 388\u001b[1;33m     \u001b[0mids\u001b[0m \u001b[1;33m=\u001b[0m \u001b[0mensure_int64\u001b[0m\u001b[1;33m(\u001b[0m\u001b[0mbins\u001b[0m\u001b[1;33m.\u001b[0m\u001b[0msearchsorted\u001b[0m\u001b[1;33m(\u001b[0m\u001b[0mx\u001b[0m\u001b[1;33m,\u001b[0m \u001b[0mside\u001b[0m\u001b[1;33m=\u001b[0m\u001b[0mside\u001b[0m\u001b[1;33m)\u001b[0m\u001b[1;33m)\u001b[0m\u001b[1;33m\u001b[0m\u001b[1;33m\u001b[0m\u001b[0m\n\u001b[0m\u001b[0;32m    389\u001b[0m \u001b[1;33m\u001b[0m\u001b[0m\n\u001b[0;32m    390\u001b[0m     \u001b[1;32mif\u001b[0m \u001b[0minclude_lowest\u001b[0m\u001b[1;33m:\u001b[0m\u001b[1;33m\u001b[0m\u001b[1;33m\u001b[0m\u001b[0m\n",
      "\u001b[1;31mTypeError\u001b[0m: '<' not supported between instances of 'int' and 'str'"
     ]
    }
   ],
   "source": [
    "loans['clientTimeAtEmployer'] = pd.cut(loans.clientTimeAtEmployer, bins = bins, labels = labels)"
   ]
  },
  {
   "cell_type": "code",
   "execution_count": null,
   "metadata": {
    "colab": {
     "base_uri": "https://localhost:8080/",
     "height": 141
    },
    "colab_type": "code",
    "id": "7c44DC4n2ESM",
    "outputId": "5c380329-fd3d-4845-f43d-1e68b86533e8"
   },
   "outputs": [],
   "source": [
    "# Check the new categories\n",
    "loans['clientTimeAtEmployer'].value_counts()"
   ]
  },
  {
   "cell_type": "code",
   "execution_count": null,
   "metadata": {
    "colab": {
     "base_uri": "https://localhost:8080/",
     "height": 761
    },
    "colab_type": "code",
    "id": "9noEsrKP2ESQ",
    "outputId": "77410274-4395-4df6-f4db-6fd44c2c606e"
   },
   "outputs": [],
   "source": [
    "# Plot the distribution of interest rates with respect to client's monthly time at current employer on a boxplot\n",
    "plt.figure(figsize=(18,12))\n",
    "plt.subplot(211)\n",
    "\n",
    "sns.boxplot(x='clientTimeAtEmployer', y='interestRate', data=loans, palette='rainbow',\n",
    "            order=['< 0 Months', '0-8 Months', '9-17 Months', '18-26 Months', '27-35 Months', '> 36 Months']);\n",
    "\n",
    "plt.xlabel('Client\\'s Time at Employer (in months)', fontsize=15)\n",
    "plt.ylabel('Interest Rate',fontsize=15)\n",
    "plt.title('Distribution of Interest Rates with respect to Client\\'s Time at Current Employer', fontsize=20);\n",
    "\n",
    "plt.subplot(212)\n",
    "\n",
    "# Plot the distribution of interest rates with respect to client's residence on a boxplot\n",
    "sns.boxplot(x='clientResidentialStauts', y='interestRate', data=loans, palette='rainbow')\n",
    "plt.xlabel('Client\\'s Residential Status', fontsize=20)\n",
    "plt.ylabel('Interest Rate',fontsize=20)\n",
    "plt.title('Distribution of Interest Rates with respect to Client\\'s Residence', fontsize=25, pad=12);\n",
    "\n",
    "plt.subplots_adjust(wspace=0.2, hspace=0.4, top=0.9)"
   ]
  },
  {
   "cell_type": "code",
   "execution_count": null,
   "metadata": {
    "colab": {
     "base_uri": "https://localhost:8080/",
     "height": 770
    },
    "colab_type": "code",
    "id": "gv3567Ck2ESX",
    "outputId": "018254ed-9d7b-46dc-f712-94e6be6a22ad"
   },
   "outputs": [],
   "source": [
    "# Plot the distribution of loan amounts with respect to client's monthly time at current employer on a boxplot\n",
    "plt.figure(figsize=(20,12))\n",
    "plt.subplot(211)\n",
    "\n",
    "sns.boxplot(x='clientTimeAtEmployer', y='loanAmount', data=loans, palette='rainbow', showfliers=False,\n",
    "               order=['< 0 Months', '0-8 Months', '9-17 Months', '18-26 Months', '27-35 Months', '> 36 Months']);\n",
    "\n",
    "plt.xlabel('Client\\'s Time at Employer (in months)', fontsize=15, labelpad = 12)\n",
    "plt.ylabel('Loan Amount', fontsize=15, labelpad = 12)\n",
    "plt.title('Distribution of Loan Amounts with respect to Client\\'s Time at Current Employer', \n",
    "          fontsize=20, pad=12);\n",
    "\n",
    "plt.subplot(212)\n",
    "# Plot the distribution of loan amounts with respect to client's monthly time at current employer on a violinplot \n",
    "# (better reflector of the distibution's proportion)\n",
    "\n",
    "sns.violinplot(x='clientTimeAtEmployer', y='loanAmount', data=loans, scale='count', palette='rainbow', split=True,\n",
    "               order=['< 0 Months', '0-8 Months', '9-17 Months', '18-26 Months', '27-35 Months', '> 36 Months']);\n",
    "\n",
    "plt.xlabel('Client\\'s Time at Employer (in months)', fontsize=15, labelpad = 12)\n",
    "plt.ylabel('Loan Amount', fontsize=15, labelpad=12)\n",
    "plt.title('Distribution of Loan Amounts with respect to Client\\'s Time at Current Employer', \n",
    "          fontsize=20, pad=12);\n",
    "\n",
    "plt.subplots_adjust(wspace=0.2, hspace=0.4, top=0.9)"
   ]
  },
  {
   "cell_type": "code",
   "execution_count": null,
   "metadata": {
    "colab": {
     "base_uri": "https://localhost:8080/",
     "height": 872
    },
    "colab_type": "code",
    "id": "3hEjE_2X2ESd",
    "outputId": "ba4c7952-ca88-413f-e60f-ea7f5b1baadf"
   },
   "outputs": [],
   "source": [
    "# More than 75% of loans are taken out by people who have worked for 36+ Months\n",
    "plt.figure(figsize=(20,14))\n",
    "\n",
    "plt.subplot(211)\n",
    "\n",
    "data = loans['clientTimeAtEmployer'].value_counts()\n",
    "sns.barplot(x=data.values, y=data.index, palette='rainbow')\n",
    "plt.xlabel('Number of loans',fontsize=15)\n",
    "plt.ylabel('Months worked',fontsize=15)\n",
    "plt.title('Number of loans distributed by Months Employed',fontsize=20, pad=12);\n",
    "\n",
    "\n",
    "plt.subplot(212)\n",
    "\n",
    "# Counts of loans defaulted on and paid with respect to number of months worked at current empolyer\n",
    "data = loans['clientTimeAtEmployer'].groupby(loans['loanDefault']).value_counts().sort_values()\n",
    "sns.barplot(x=data.values, y=data.index, palette='rainbow')\n",
    "plt.xlabel('Number of loans',fontsize=15)\n",
    "plt.ylabel('Months worked',fontsize=15)\n",
    "plt.title('Number of loans distributed by Months Employed grouped by Loan Status',fontsize=20, pad=12);\n",
    "\n",
    "plt.subplots_adjust(wspace=0.2, hspace=0.3, top=0.9)"
   ]
  },
  {
   "cell_type": "code",
   "execution_count": null,
   "metadata": {
    "colab": {
     "base_uri": "https://localhost:8080/",
     "height": 888
    },
    "colab_type": "code",
    "id": "h5ijAuvK2ESj",
    "outputId": "65da32b7-d446-4576-eb41-8d915ccb9589"
   },
   "outputs": [],
   "source": [
    "plt.figure(figsize=(20,14))\n",
    "\n",
    "plt.subplot(211)\n",
    "\n",
    "# Plot the distribution of client income with respect to client's time at current employer on a boxplot\n",
    "cols = ['< 0 Months', '0-8 Months', '9-17 Months', '18-26 Months', '27-35 Months', '> 36 Months']\n",
    "sns.boxplot(x='clientTimeAtEmployer', y='clientIncome', data= loans, order=cols, showfliers=False, palette='rainbow')\n",
    "plt.xlabel('Employment Length', fontsize=20, labelpad=12)\n",
    "plt.ylabel('Client Income', fontsize=20, labelpad=12)\n",
    "plt.title('Distribution of Client Income with respect to Employment Length ', fontsize=25, pad=12);\n",
    "\n",
    "plt.subplot(212)\n",
    "\n",
    "# Plot the distribution of client income with respect to client's residence on a boxplot\n",
    "sns.boxplot(x='clientResidentialStauts', y='clientIncome', data=loans, palette='rainbow', showfliers=False)\n",
    "plt.xlabel('Client\\'s Residential Status', fontsize=20, labelpad=12)\n",
    "plt.ylabel('Client Income',fontsize=20, labelpad=12)\n",
    "plt.title('Distribution of Client Income with respect to Client\\'s Residence', fontsize=25, pad=12);\n",
    "\n",
    "plt.subplots_adjust(wspace=0.2, hspace=0.3, top=0.9)"
   ]
  },
  {
   "cell_type": "markdown",
   "metadata": {
    "colab_type": "text",
    "id": "iR4yDwgs2ESp"
   },
   "source": [
    "### 2.4 Handle missing values in the `clientNumberPhoneContacts` column\n",
    "- **`Fill Nans with mean value of clientNumberPhoneContacts grouped by age of client`**\n",
    "- **Logic behind it**: Plotting **clientNumberPhoneContacts** after grouping by **clientAge** revealed a subtle trend with the two variables; the **mean** of **`clientNumberPhoneContacts`** tends to mostly **increase** gradually with the **age** of the client, save for a few exceptions. It makes more sense to fill the missing values this way compared to backward or forward filling."
   ]
  },
  {
   "cell_type": "code",
   "execution_count": null,
   "metadata": {
    "colab": {
     "base_uri": "https://localhost:8080/",
     "height": 511
    },
    "colab_type": "code",
    "id": "o2_u2YH42ESq",
    "outputId": "01922513-a299-45e2-8c14-29da7a887379",
    "scrolled": false
   },
   "outputs": [],
   "source": [
    "plt.figure(figsize=(16,8))\n",
    "loans['clientNumberPhoneContacts'].groupby(loans['clientAge']).mean().plot(kind='bar',\n",
    "                    title= 'Mean of Number of Client Phone Contacts grouped by Age of Client');"
   ]
  },
  {
   "cell_type": "code",
   "execution_count": null,
   "metadata": {
    "colab": {},
    "colab_type": "code",
    "id": "49DhcHCj2ESu"
   },
   "outputs": [],
   "source": [
    "# Group by clientAge and transform the Nans in clientAvgCallsPerDay to the mean of the groupby\n",
    "loans['clientNumberPhoneContacts'] = loans['clientNumberPhoneContacts'].groupby(loans['clientAge']).transform\\\n",
    "                                (lambda x: x.fillna(x.mean()))"
   ]
  },
  {
   "cell_type": "code",
   "execution_count": null,
   "metadata": {
    "colab": {
     "base_uri": "https://localhost:8080/",
     "height": 151
    },
    "colab_type": "code",
    "id": "mwR1Br612ES0",
    "outputId": "995aa8a2-7f5f-4f2a-f692-94a5bb55f8fc"
   },
   "outputs": [],
   "source": [
    "# Upon inspection, one NaN still exists. Investigate this:\n",
    "loans[loans['clientNumberPhoneContacts'].isna()]"
   ]
  },
  {
   "cell_type": "code",
   "execution_count": null,
   "metadata": {
    "colab": {},
    "colab_type": "code",
    "id": "9wBkturD2ES4"
   },
   "outputs": [],
   "source": [
    "# Fill the one remaining NaN with the mean of clientNumberPhoneContacts\n",
    "loans['clientNumberPhoneContacts'] = loans['clientNumberPhoneContacts'].transform(lambda x: x.fillna(x.mean()))"
   ]
  },
  {
   "cell_type": "markdown",
   "metadata": {
    "colab_type": "text",
    "id": "7C_ZzuPX2ES_"
   },
   "source": [
    "### 2.5 Handle missing values in the `clientAvgCallsPerDay `column\n",
    "- **`Fill Nans with the mean value of clientAvgCallsPerDay grouped by age of Client`**\n",
    "- Plotting **`clientAvgCallsPerDay`** after grouping by **`clientAge`** revealed a noticeable trend with the two variables; the **mean** of **`clientAvgCallsPerDay`** **decreases** with the **age** of the client."
   ]
  },
  {
   "cell_type": "code",
   "execution_count": null,
   "metadata": {
    "colab": {
     "base_uri": "https://localhost:8080/",
     "height": 511
    },
    "colab_type": "code",
    "id": "3FMqPxrc2ETA",
    "outputId": "d05e644e-cbc8-4ce4-85f7-ef210f37349d"
   },
   "outputs": [],
   "source": [
    "plt.figure(figsize=(16,8))\n",
    "loans['clientAvgCallsPerDay'].groupby(loans['clientAge']).mean().plot(kind='bar', \n",
    "            title= 'Mean of Avergae calls made by Clients in a Day grouped by Age of Client');"
   ]
  },
  {
   "cell_type": "code",
   "execution_count": null,
   "metadata": {
    "colab": {},
    "colab_type": "code",
    "id": "9xJhW0952ETC",
    "scrolled": true
   },
   "outputs": [],
   "source": [
    "# Group by clientAge and transform the Nans in clientAvgCallsPerDay to the mean of the groupby\n",
    "loans['clientAvgCallsPerDay'] = loans['clientAvgCallsPerDay'].groupby(loans['clientAge']).transform\\\n",
    "                                (lambda x: x.fillna(x.mean()))"
   ]
  },
  {
   "cell_type": "code",
   "execution_count": null,
   "metadata": {
    "colab": {
     "base_uri": "https://localhost:8080/",
     "height": 147
    },
    "colab_type": "code",
    "id": "vSx16ghP2ETF",
    "outputId": "fa696509-aa87-4cf1-abaf-613bba1a3ca0",
    "scrolled": true
   },
   "outputs": [],
   "source": [
    "# Upon inspection, one NaN still exists. Investigate this:\n",
    "loans[loans['clientAvgCallsPerDay'].isna()]"
   ]
  },
  {
   "cell_type": "code",
   "execution_count": null,
   "metadata": {
    "colab": {},
    "colab_type": "code",
    "id": "ullXo7Gl2ETM"
   },
   "outputs": [],
   "source": [
    "# Fill the one remaining NaN with the mean of clientNumberPhoneContacts\n",
    "loans['clientAvgCallsPerDay'] = loans['clientAvgCallsPerDay'].transform(lambda x: x.fillna(x.mean()))"
   ]
  },
  {
   "cell_type": "markdown",
   "metadata": {
    "colab_type": "text",
    "id": "m3ii7RP92ETP"
   },
   "source": [
    "### 2.6 Handle missing values in the `clientResidentialStauts `column\n",
    "- **`Fill Nans with the mode value of clientResidentialStauts grouped by age of Client`**\n",
    "- **Logic behind it**: Grouping **`clientResidentialStauts`** by **`clientAge`** revealed that **`66.67%`** 18 year olds lived in **`Family Owned`** residences, the only 19 year old lives in her **`Own Residence`**. **`40%`** of the 20 Year olds lived in **`Family Owned`** residences. For ages **`21-53`**, more client's live in **`Rented`** residences. For ages **`54-60`**, more client's lived in their **`Own Residence`**.\n",
    "- The Nans in this column will be filled with the `mode` value gotten after grouping **`clientResidentialStauts`** by Age."
   ]
  },
  {
   "cell_type": "code",
   "execution_count": null,
   "metadata": {
    "colab": {
     "base_uri": "https://localhost:8080/",
     "height": 3501
    },
    "colab_type": "code",
    "id": "V-ZF8meP2ETP",
    "outputId": "1d26f0a9-3c0b-4024-b3bb-415fe781a959"
   },
   "outputs": [],
   "source": [
    "# Group client residential status by Age and fnd the counts of the values\n",
    "loans['clientResidentialStauts'].groupby(loans['clientAge']).value_counts()"
   ]
  },
  {
   "cell_type": "code",
   "execution_count": null,
   "metadata": {
    "colab": {},
    "colab_type": "code",
    "id": "v2Jzd_vw2ETT"
   },
   "outputs": [],
   "source": [
    "# Group by clientAge and transform the Nans in clientResidentialStauts to the mode of the groupby\n",
    "loans['clientResidentialStauts'] = loans['clientResidentialStauts'].groupby(loans['clientAge']).\\\n",
    "                                    transform(lambda x: x.fillna(x.mode()[0]))"
   ]
  },
  {
   "cell_type": "code",
   "execution_count": null,
   "metadata": {
    "colab": {},
    "colab_type": "code",
    "id": "9ihpU1Dz2ETV"
   },
   "outputs": [],
   "source": [
    "# Create a new feature, loan to income ratio \n",
    "loans['loan_income_ratio']= loans['loanAmount']/loans['clientIncome']"
   ]
  },
  {
   "cell_type": "markdown",
   "metadata": {
    "colab_type": "text",
    "id": "WWi_5C1E2ETY"
   },
   "source": [
    "## 3. Drop Columns\n",
    "- **loanId and clientId**: Values are unique to individual clients\n",
    "- **clientState**: Besides LAGOS that accounts for `38.01%` of the total clients and the next 3 states `OGUN: 9.27%`, `ABUJA: 8.77%` and `OYO: 7.97%`, data from the other states are sparse.\n",
    "- **loanType**: All loans are `paylater` loans\n",
    "- **declinedDate**: `99.995%` Missing values\n",
    "- **payout_status**: All loans have `SUCCESS` status\n",
    "- **paidAt**: This feature is only known after the final payments have been made, hence it's a data leak"
   ]
  },
  {
   "cell_type": "code",
   "execution_count": null,
   "metadata": {
    "colab": {},
    "colab_type": "code",
    "id": "BMDVETVZ2ETZ"
   },
   "outputs": [],
   "source": [
    "# Drop columns\n",
    "cols = ['loanId', 'clientId', 'clientState', 'loanType','declinedDate', 'payout_status','paidAt']\n",
    "loans = loans.drop(cols, axis=1)"
   ]
  },
  {
   "cell_type": "markdown",
   "metadata": {
    "colab_type": "text",
    "id": "qSefeBj62ETb"
   },
   "source": [
    "### Encode `month` Information from date columns and drop the columns"
   ]
  },
  {
   "cell_type": "code",
   "execution_count": null,
   "metadata": {
    "colab": {},
    "colab_type": "code",
    "id": "zrDaTzt92ETb"
   },
   "outputs": [],
   "source": [
    "# Loop through datetime columns and create new columns with the number of the month appended to the column name.\n",
    "for i in dates:\n",
    "    months_order = [1, 2, 3, 4, 5, 6, 7, 8, 9, 10, 11, 12, 'Unpaid']\n",
    "    loans[i+'_Month'] = pd.Categorical(loans[i].dt.month, categories=months_order, ordered=True)"
   ]
  },
  {
   "cell_type": "code",
   "execution_count": null,
   "metadata": {
    "colab": {},
    "colab_type": "code",
    "id": "PSw45kNx2ETd"
   },
   "outputs": [],
   "source": [
    "# Drop the datetime columns\n",
    "loans = loans.drop(dates, axis=1)"
   ]
  },
  {
   "cell_type": "code",
   "execution_count": null,
   "metadata": {
    "colab": {},
    "colab_type": "code",
    "id": "HpoNvAHx2ETj"
   },
   "outputs": [],
   "source": [
    "loans['repaidDate_Month'] = loans['repaidDate_Month'].fillna('Unpaid')"
   ]
  },
  {
   "cell_type": "code",
   "execution_count": null,
   "metadata": {
    "colab": {
     "base_uri": "https://localhost:8080/",
     "height": 34
    },
    "colab_type": "code",
    "id": "gpTvAqK92ETm",
    "outputId": "7c4e9f8e-9861-4b86-8da9-c695652693b1"
   },
   "outputs": [],
   "source": [
    "loans['repaidDate_Month'].dtype"
   ]
  },
  {
   "cell_type": "markdown",
   "metadata": {
    "colab_type": "text",
    "id": "wZ7HOP9i2ETz"
   },
   "source": [
    "### Check Correlation of Numeric Features"
   ]
  },
  {
   "cell_type": "code",
   "execution_count": null,
   "metadata": {
    "colab": {
     "base_uri": "https://localhost:8080/",
     "height": 714
    },
    "colab_type": "code",
    "id": "6SxNt0O02ETz",
    "outputId": "2ee7ebdc-1ee7-4f26-a607-5904ee37e1d2",
    "scrolled": false
   },
   "outputs": [],
   "source": [
    "plt.figure(figsize=(12,10))\n",
    "plt.title('Pearson Correlation of Data Features')\n",
    "sns.heatmap(loans.corr(), linewidths=0.25, vmax=1.0, square=True,\n",
    "           cmap=sns.diverging_palette(220, 10, as_cmap=True), linecolor='black', annot=True);"
   ]
  },
  {
   "cell_type": "markdown",
   "metadata": {
    "colab_type": "text",
    "id": "ONehq61Z2ET_"
   },
   "source": [
    "## 4. One Hot Encode Categorical Columns"
   ]
  },
  {
   "cell_type": "code",
   "execution_count": null,
   "metadata": {
    "colab": {},
    "colab_type": "code",
    "id": "FPRbTNj02ET_"
   },
   "outputs": [],
   "source": [
    "#'clientState'\n",
    "cat_cols = ['clientGender', 'clientMaritalStatus', 'clientLoanPurpose','clientResidentialStauts','clientTimeAtEmployer',\n",
    "            'loanTerm','applicationDate_Month','approvalDate_Month', 'disbursementDate_Month','dueDate_Month',\n",
    "            'repaidDate_Month','FirstPaymentDueDate_Month']\n",
    "ohe_cols = pd.get_dummies(loans[cat_cols])\n",
    "ohe_loans = pd.concat([loans, ohe_cols], axis=1)\n",
    "ohe_loans = ohe_loans.drop(cat_cols, axis=1)"
   ]
  },
  {
   "cell_type": "code",
   "execution_count": null,
   "metadata": {
    "colab": {},
    "colab_type": "code",
    "id": "eJzD_RUx2EUB"
   },
   "outputs": [],
   "source": [
    "X_df = ohe_loans.copy()\n",
    "X_df_x = X_df.drop('loanDefault', axis=1)"
   ]
  },
  {
   "cell_type": "code",
   "execution_count": null,
   "metadata": {
    "colab": {},
    "colab_type": "code",
    "id": "OuP-BJHY2EUD"
   },
   "outputs": [],
   "source": [
    "X = ohe_loans.drop('loanDefault', axis=1).values\n",
    "y = ohe_loans['loanDefault'].values"
   ]
  },
  {
   "cell_type": "markdown",
   "metadata": {
    "colab_type": "text",
    "id": "IfO4xaTp2EUF"
   },
   "source": [
    "## Use an ExtraTreeClassifier to find most important features"
   ]
  },
  {
   "cell_type": "code",
   "execution_count": null,
   "metadata": {
    "colab": {
     "base_uri": "https://localhost:8080/",
     "height": 606
    },
    "colab_type": "code",
    "id": "wncWXXEU2EUG",
    "outputId": "d9f579a7-bb31-437f-955c-fe96aa27e638"
   },
   "outputs": [],
   "source": [
    "from sklearn.datasets import make_classification\n",
    "from sklearn.ensemble import ExtraTreesClassifier\n",
    "\n",
    "# Initialize a random forest estimator\n",
    "forest = ExtraTreesClassifier(n_estimators=50,random_state=0)\n",
    "\n",
    "# Fit the input matrix and target values to the classifier\n",
    "forest.fit(X, y)\n",
    "\n",
    "# Retrieve the computed feature importance\n",
    "importances = forest.feature_importances_\n",
    "\n",
    "# Plot the feature importance\n",
    "plot_data = pd.DataFrame({'features' : pd.Series(X_df_x.columns),'importance' : pd.Series(importances)})\n",
    "plt.figure(figsize=(15,10))\n",
    "plot_data = plot_data.sort_values('importance',ascending=False)\n",
    "plot_data = plot_data[plot_data['importance'] > 0.01]\n",
    "ax = sns.barplot(x=plot_data['importance'],y=plot_data['features'],)"
   ]
  },
  {
   "cell_type": "code",
   "execution_count": null,
   "metadata": {
    "colab": {},
    "colab_type": "code",
    "id": "OkIs2rsS2EUL"
   },
   "outputs": [],
   "source": [
    "# Use the most important features [mif] as X\n",
    "mifeat_df_X = ohe_loans[plot_data.iloc[:,0].values].values"
   ]
  },
  {
   "cell_type": "code",
   "execution_count": null,
   "metadata": {
    "colab": {},
    "colab_type": "code",
    "id": "mZJCbS9J2EUP"
   },
   "outputs": [],
   "source": [
    "from sklearn.model_selection import cross_val_score, cross_val_predict\n",
    "from sklearn.metrics import accuracy_score, classification_report, confusion_matrix, roc_auc_score"
   ]
  },
  {
   "cell_type": "markdown",
   "metadata": {
    "colab_type": "text",
    "id": "1UNTa5t62EUR"
   },
   "source": [
    "## Split data into train and test sets"
   ]
  },
  {
   "cell_type": "code",
   "execution_count": null,
   "metadata": {
    "colab": {},
    "colab_type": "code",
    "id": "BCCLqPm_2EUS"
   },
   "outputs": [],
   "source": [
    "from sklearn.model_selection import train_test_split\n",
    "\n",
    "X_train, X_test, y_train, y_test = train_test_split(mifeat_df_X, y, test_size=0.25, random_state=3005)"
   ]
  },
  {
   "cell_type": "markdown",
   "metadata": {
    "colab_type": "text",
    "id": "Fyfz9c5T2EUU"
   },
   "source": [
    "## Scale using StandardScaler"
   ]
  },
  {
   "cell_type": "code",
   "execution_count": null,
   "metadata": {
    "colab": {},
    "colab_type": "code",
    "id": "wmv-pNDE2EUW"
   },
   "outputs": [],
   "source": [
    "from sklearn.preprocessing import StandardScaler\n",
    "\n",
    "scaler = StandardScaler()\n",
    "X_train = scaler.fit_transform(X_train)\n",
    "X_test = scaler.transform(X_test)"
   ]
  },
  {
   "cell_type": "markdown",
   "metadata": {
    "colab_type": "text",
    "id": "vl8PTMPl2EUa"
   },
   "source": [
    "## Oversample the training set of the minority class `0` using `SMOTE`"
   ]
  },
  {
   "cell_type": "code",
   "execution_count": null,
   "metadata": {
    "colab": {},
    "colab_type": "code",
    "id": "vRtRAma32EUb"
   },
   "outputs": [],
   "source": [
    "from imblearn.over_sampling import SMOTE\n",
    "\n",
    "smote = SMOTE(random_state=3005, sampling_strategy = 'minority')\n",
    "X_train_bal, y_train_bal = smote.fit_sample(X_train, y_train)"
   ]
  },
  {
   "cell_type": "markdown",
   "metadata": {
    "colab_type": "text",
    "id": "fcOsfWb22EUq"
   },
   "source": [
    "## Build RandomForestClassifier"
   ]
  },
  {
   "cell_type": "code",
   "execution_count": null,
   "metadata": {
    "colab": {},
    "colab_type": "code",
    "id": "IQO3qOda2EUq"
   },
   "outputs": [],
   "source": [
    "# Initialise a RandomForestClassifier\n",
    "from sklearn.ensemble import RandomForestClassifier\n",
    "rf_clf = RandomForestClassifier()"
   ]
  },
  {
   "cell_type": "code",
   "execution_count": null,
   "metadata": {
    "colab": {
     "base_uri": "https://localhost:8080/",
     "height": 176
    },
    "colab_type": "code",
    "id": "oaFdUAEN2EUt",
    "outputId": "ad6d391f-ed94-4d42-8e20-65dcd4f151e0"
   },
   "outputs": [],
   "source": [
    "# Fit model to training data\n",
    "rf_clf.fit(X_train_bal, y_train_bal)"
   ]
  },
  {
   "cell_type": "code",
   "execution_count": null,
   "metadata": {
    "colab": {
     "base_uri": "https://localhost:8080/",
     "height": 347
    },
    "colab_type": "code",
    "id": "qsvh5lsj2EU0",
    "outputId": "f9d52ee8-23a4-454a-d3d0-03b2d6a38565"
   },
   "outputs": [],
   "source": [
    "# Test model, make predictions and see the predictions next to the actual y values\n",
    "rf_predictions = rf_clf.predict(X_test)\n",
    "\n",
    "# format and print\n",
    "pd.DataFrame(data = {'predicted values':rf_predictions, 'actual value': list(int(val) for val in y_test)}).head(10)"
   ]
  },
  {
   "cell_type": "code",
   "execution_count": null,
   "metadata": {
    "colab": {},
    "colab_type": "code",
    "id": "boj_z8wi2EU5"
   },
   "outputs": [],
   "source": [
    "# Measure model's performace for training and testing sets\n",
    "def print_score(clf, X_train, y_train, X_test, y_test, train=True):\n",
    "    if train:\n",
    "        print(\"Train Result:\\n\")\n",
    "        print(\"accuracy score: {0:.4f}\\n\".format(accuracy_score(y_train, clf.predict(X_train))))\n",
    "        print(\"Classification Report: \\n {}\\n\".format(classification_report(y_train, clf.predict(X_train))))\n",
    "        print(\"Confusion Matrix: \\n {}\\n\".format(confusion_matrix(y_train, clf.predict(X_train))))\n",
    "        print(\"ROC_AUC_Score: \\n {}\\n\".format(roc_auc_score(y_train, clf.predict_proba(X_train)[:, 1])))\n",
    "        \n",
    "        res = cross_val_score(clf, X_train, y_train, cv=10, scoring='accuracy')\n",
    "        print(\"Average Accuracy: \\t {0:.4f}\".format(np.mean(res)))\n",
    "        print(\"Accuracy SD: \\t\\t {0:.4f}\".format(np.std(res)))\n",
    "        \n",
    "    elif train==False:\n",
    "        print(\"Test Result:\\n\")        \n",
    "        print(\"accuracy score: {0:.4f}\\n\".format(accuracy_score(y_test, clf.predict(X_test))))\n",
    "        print(\"Classification Report: \\n {}\\n\".format(classification_report(y_test, clf.predict(X_test))))\n",
    "        print(\"Confusion Matrix: \\n {}\\n\".format(confusion_matrix(y_test, clf.predict(X_test))))\n",
    "        print(\"ROC_AUC_Score: \\n {}\\n\".format(roc_auc_score(y_test, clf.predict_proba(X_test)[:, 1])))"
   ]
  },
  {
   "cell_type": "markdown",
   "metadata": {
    "colab_type": "text",
    "id": "TGKMPFJ42EU7"
   },
   "source": [
    "### Measure Baseline model's Performance after training and testing"
   ]
  },
  {
   "cell_type": "code",
   "execution_count": null,
   "metadata": {
    "colab": {
     "base_uri": "https://localhost:8080/",
     "height": 443
    },
    "colab_type": "code",
    "id": "Hdl5d0Tw2EU8",
    "outputId": "0371854a-8568-4188-81b3-808ab6521132"
   },
   "outputs": [],
   "source": [
    "print_score(rf_clf, X_train_bal, y_train_bal, X_test, y_test, train=True)"
   ]
  },
  {
   "cell_type": "code",
   "execution_count": null,
   "metadata": {
    "colab": {
     "base_uri": "https://localhost:8080/",
     "height": 391
    },
    "colab_type": "code",
    "id": "OrvXZeQk2EVK",
    "outputId": "5d970ee6-ef67-4bcc-d223-438dc205c2d5"
   },
   "outputs": [],
   "source": [
    "print_score(rf_clf, X_train_bal, y_train_bal, X_test, y_test, train=False)"
   ]
  },
  {
   "cell_type": "markdown",
   "metadata": {
    "colab_type": "text",
    "id": "_2sg-awe2EVQ"
   },
   "source": [
    "## Hyperparameter Tuning"
   ]
  },
  {
   "cell_type": "code",
   "execution_count": null,
   "metadata": {
    "colab": {
     "base_uri": "https://localhost:8080/",
     "height": 411
    },
    "colab_type": "code",
    "id": "64uMi4ky2EVR",
    "outputId": "711e105d-b5b3-45a0-a193-97ed645b961e"
   },
   "outputs": [],
   "source": [
    "from sklearn.model_selection import GridSearchCV\n",
    "hyperparameters = {'max_features':['auto'],\n",
    "                   'max_depth': [None, 1, 10, 20],\n",
    "                   'min_samples_leaf': [1, 2, 4],\n",
    "                   'min_samples_split': [2, 5, 10],\n",
    "                   'n_estimators': [80, 100, 120],\n",
    "                   'criterion': ['gini', 'entropy']}\n",
    "rf_grid = GridSearchCV(rf_clf, hyperparameters, cv = 10, n_jobs = -1, verbose = 2)\n",
    "rf_grid.fit(X_train_bal, y_train_bal)"
   ]
  },
  {
   "cell_type": "code",
   "execution_count": null,
   "metadata": {
    "colab": {
     "base_uri": "https://localhost:8080/",
     "height": 119
    },
    "colab_type": "code",
    "id": "kp27wMUk2EVU",
    "outputId": "f95cfb9a-bda0-4c8c-c03b-9c29588ee5bc",
    "scrolled": true
   },
   "outputs": [],
   "source": [
    "rf_grid.best_params_"
   ]
  },
  {
   "cell_type": "markdown",
   "metadata": {
    "colab_type": "text",
    "id": "gZYMsCrI2EVX"
   },
   "source": [
    "### The best parameters obtained after running GridSearchCV were:\n",
    "```\n",
    "{'criterion': 'entropy',\n",
    " 'max_depth': None,\n",
    " 'max_features': 'auto',\n",
    " 'min_samples_leaf': 1,\n",
    " 'min_samples_split': 2,\n",
    " 'n_estimators': 120}```"
   ]
  },
  {
   "cell_type": "code",
   "execution_count": null,
   "metadata": {
    "colab": {
     "base_uri": "https://localhost:8080/",
     "height": 136
    },
    "colab_type": "code",
    "id": "lcwIgGy72EVX",
    "outputId": "417b6d03-4b84-4fd7-a732-8834167c6324"
   },
   "outputs": [],
   "source": [
    "rf_clf.set_params(criterion = 'entropy', max_features = 'auto', max_depth = None, \n",
    "               min_samples_leaf = 1, min_samples_split = 2, n_estimators = 120)"
   ]
  },
  {
   "cell_type": "code",
   "execution_count": null,
   "metadata": {
    "colab": {
     "base_uri": "https://localhost:8080/",
     "height": 425
    },
    "colab_type": "code",
    "id": "iMygvdR-2EVZ",
    "outputId": "28984ce3-bcb7-4bec-d8ac-834a82717a4e"
   },
   "outputs": [],
   "source": [
    "print_score(rf_clf, X_train_bal, y_train_bal, X_test, y_test, train=True)"
   ]
  },
  {
   "cell_type": "code",
   "execution_count": null,
   "metadata": {
    "colab": {
     "base_uri": "https://localhost:8080/",
     "height": 391
    },
    "colab_type": "code",
    "id": "SQ5rTUwF2EVc",
    "outputId": "6c7e6963-be55-42ac-e514-87091188e81c"
   },
   "outputs": [],
   "source": [
    "print_score(rf_clf, X_train_bal, y_train_bal, X_test, y_test, train=False)"
   ]
  },
  {
   "cell_type": "markdown",
   "metadata": {
    "colab_type": "text",
    "id": "Bk2o13f-IsuD"
   },
   "source": [
    "### My models aimed to reduce the amount lost by the company to defaulters whilst still giving out loans to individuals most likely to pay back."
   ]
  },
  {
   "cell_type": "code",
   "execution_count": null,
   "metadata": {
    "colab": {
     "base_uri": "https://localhost:8080/",
     "height": 51
    },
    "colab_type": "code",
    "id": "7gveDNuYItaO",
    "outputId": "0d68816f-fd20-4267-cdce-d4b2c47f7984"
   },
   "outputs": [],
   "source": [
    "rate = (loans[loans.loanDefault==1]['loanAmount'].sum()/loans['loanAmount'].sum())*100\n",
    "total = loans.loanAmount.sum()\n",
    "print('My decisions were influenced by trying to reduce the rate of {}% which was the percentage of\\n the total loan amounts disbursed to the defaulting clients in 2018 out of ₦{:,.2f}.'.format(rate.round(2), total))"
   ]
  }
 ],
 "metadata": {
  "accelerator": "GPU",
  "colab": {
   "collapsed_sections": [],
   "name": "RF-SMOTE.ipynb",
   "provenance": [],
   "version": "0.3.2"
  },
  "kernelspec": {
   "display_name": "Python 3",
   "language": "python",
   "name": "python3"
  },
  "language_info": {
   "codemirror_mode": {
    "name": "ipython",
    "version": 3
   },
   "file_extension": ".py",
   "mimetype": "text/x-python",
   "name": "python",
   "nbconvert_exporter": "python",
   "pygments_lexer": "ipython3",
   "version": "3.7.6"
  }
 },
 "nbformat": 4,
 "nbformat_minor": 2
}
